{
 "cells": [
  {
   "cell_type": "code",
   "execution_count": 43,
   "id": "03e7bba8",
   "metadata": {},
   "outputs": [],
   "source": [
    "# Importing necessary libraries \n",
    "import os\n",
    "import json\n",
    "import requests\n",
    "from astropy.table import Table\n",
    "from urllib.parse import urlencode\n",
    "from astropy.table import conf"
   ]
  },
  {
   "cell_type": "markdown",
   "id": "23f9914b",
   "metadata": {},
   "source": [
    "### General Structure of Reading JSON files from SLED and FITS Imaging Downloads from Multiple Databases."
   ]
  },
  {
   "cell_type": "code",
   "execution_count": 44,
   "id": "d34be31a",
   "metadata": {},
   "outputs": [],
   "source": [
    "def load_sled_table(json_file):\n",
    "    \"\"\"\n",
    "    Load JSON file of lensed objects into an Astropy Table.\n",
    "    Each row corresponds to a unique 'name' entry in the JSON.\n",
    "    \"\"\"\n",
    "    with open(json_file, \"r\") as f:\n",
    "        data = json.load(f)\n",
    "\n",
    "    rows = []\n",
    "    for entry in data:\n",
    "        rows.append({\n",
    "            \"name\": entry.get(\"name\", \"Unknown\"),\n",
    "            \"ra\": float(entry.get(\"ra\", None)),\n",
    "            \"dec\": float(entry.get(\"dec\", None)),\n",
    "            \"score\": entry.get(\"score\", None),\n",
    "            \"flag\": entry.get(\"flag\", \"Unknown\"),\n",
    "            \"n_img\": entry.get(\"n_img\", None),\n",
    "            \"image_sep\": entry.get(\"image_sep\", None),\n",
    "            \"lens_type\": entry.get(\"lens_type\", \"Unknown\"),\n",
    "            \"source_type\": entry.get(\"source_type\", \"Unknown\"),\n",
    "            \"imaging\": entry.get(\"imaging\", [])\n",
    "        })\n",
    "\n",
    "    table = Table(\n",
    "        rows=rows,\n",
    "        names=[\n",
    "            \"name\", \"ra\", \"dec\", \"score\",\n",
    "            \"flag\", \"n_img\", \"image_sep\", \"lens_type\", \"source_type\", \"imaging\"\n",
    "        ]\n",
    "    )\n",
    "    return table"
   ]
  },
  {
   "cell_type": "code",
   "execution_count": 45,
   "id": "985510e7",
   "metadata": {},
   "outputs": [],
   "source": [
    "def download_fits(url, outpath):\n",
    "    \"\"\"\n",
    "    Download a FITS file from a URL and save it locally.\n",
    "    \"\"\"\n",
    "    os.makedirs(os.path.dirname(outpath), exist_ok=True)\n",
    "    try:\n",
    "        r = requests.get(url, timeout=200)\n",
    "        r.raise_for_status()\n",
    "        with open(outpath, \"wb\") as f:\n",
    "            f.write(r.content)\n",
    "        print(f\"Saved {outpath}\")\n",
    "    except Exception as e:\n",
    "        print(f\"Failed to fetch {url}: {e}\")"
   ]
  },
  {
   "cell_type": "code",
   "execution_count": null,
   "id": "40689e28",
   "metadata": {},
   "outputs": [],
   "source": [
    "def query_panstarrs(ra, dec, imaging, outdir, name):\n",
    "    \"\"\"\n",
    "    Download Pan-STARRS FITS cutouts for each band in imaging.\n",
    "    \"\"\"\n",
    "    base = \"http://ps1images.stsci.edu/cgi-bin/fitscut.cgi?\"\n",
    "    valid_bands = {\"g\", \"r\", \"i\", \"z\", \"y\"}  # PS1 filters\n",
    "\n",
    "    for img in imaging:\n",
    "        instrument = img.get(\"instrument\")\n",
    "        if instrument != \"Pan-STARRS1\":\n",
    "            continue\n",
    "\n",
    "        band = img.get(\"band\", \"\").lower()\n",
    "        if band not in valid_bands:\n",
    "            print(f\"Skipping {name} due to invalid or missing band: {band}\")\n",
    "            continue\n",
    "\n",
    "        pixel_size = img.get(\"pixel_size\")\n",
    "        if pixel_size is None or pixel_size <= 0:\n",
    "            pixel_size = 120  # default arcseconds\n",
    "\n",
    "        params = {\n",
    "            \"ra\": ra,\n",
    "            \"dec\": dec,\n",
    "            \"size\": pixel_size,\n",
    "            \"format\": \"fits\",\n",
    "            \"filter\": band\n",
    "        }\n",
    "\n",
    "        url = base + urlencode(params)\n",
    "\n",
    "        # Path structure: outdir/name/instrument/name_band.fits\n",
    "        inst_dir = os.path.join(outdir, name, instrument)\n",
    "        os.makedirs(inst_dir, exist_ok=True)\n",
    "\n",
    "        outpath = os.path.join(inst_dir, f\"{name}_{band}.fits\")\n",
    "        print(f\"Downloading {name} {band} -> {outpath}\")\n",
    "        download_fits(url, outpath)"
   ]
  },
  {
   "cell_type": "markdown",
   "id": "f82f6c77",
   "metadata": {},
   "source": [
    "### Accessing JSON lensed galaxies file"
   ]
  },
  {
   "cell_type": "code",
   "execution_count": null,
   "id": "5cb03736",
   "metadata": {},
   "outputs": [],
   "source": []
  },
  {
   "cell_type": "markdown",
   "id": "bd4000da",
   "metadata": {},
   "source": [
    "### Accessing JSON lensed quasars file "
   ]
  },
  {
   "cell_type": "code",
   "execution_count": null,
   "id": "aafb0b75",
   "metadata": {},
   "outputs": [],
   "source": []
  },
  {
   "cell_type": "markdown",
   "id": "b8e87600",
   "metadata": {},
   "source": [
    "### Accessing JSON lensed supernovae file \n"
   ]
  },
  {
   "cell_type": "code",
   "execution_count": 47,
   "id": "3f555efe",
   "metadata": {},
   "outputs": [
    {
     "name": "stdout",
     "output_type": "stream",
     "text": [
      "     name      ...\n",
      "-------------- ...\n",
      "    J0138-2155 ...\n",
      " ABELL370_GLSN ...\n",
      "MACSJ1149_GLSN ...\n",
      "    SN-2022qmx ...\n",
      "     iPTF16geu ...\n",
      "Failed to fetch http://ps1images.stsci.edu/cgi-bin/fitscut.cgi?ra=24.5155&dec=-21.9256&size=0.250&format=fits&filter=y: 400 Client Error: fitscut error for url: http://ps1images.stsci.edu/cgi-bin/fitscut.cgi?ra=24.5155&dec=-21.9256&size=0.250&format=fits&filter=y\n",
      "Failed to fetch http://ps1images.stsci.edu/cgi-bin/fitscut.cgi?ra=24.5155&dec=-21.9256&size=0.250&format=fits&filter=r: 400 Client Error: fitscut error for url: http://ps1images.stsci.edu/cgi-bin/fitscut.cgi?ra=24.5155&dec=-21.9256&size=0.250&format=fits&filter=r\n",
      "Failed to fetch http://ps1images.stsci.edu/cgi-bin/fitscut.cgi?ra=24.5155&dec=-21.9256&size=0.250&format=fits&filter=z: 400 Client Error: fitscut error for url: http://ps1images.stsci.edu/cgi-bin/fitscut.cgi?ra=24.5155&dec=-21.9256&size=0.250&format=fits&filter=z\n",
      "Failed to fetch http://ps1images.stsci.edu/cgi-bin/fitscut.cgi?ra=24.5155&dec=-21.9256&size=0.250&format=fits&filter=g: 400 Client Error: fitscut error for url: http://ps1images.stsci.edu/cgi-bin/fitscut.cgi?ra=24.5155&dec=-21.9256&size=0.250&format=fits&filter=g\n",
      "Failed to fetch http://ps1images.stsci.edu/cgi-bin/fitscut.cgi?ra=24.5155&dec=-21.9256&size=0.250&format=fits&filter=i: 400 Client Error: fitscut error for url: http://ps1images.stsci.edu/cgi-bin/fitscut.cgi?ra=24.5155&dec=-21.9256&size=0.250&format=fits&filter=i\n",
      "Failed to fetch http://ps1images.stsci.edu/cgi-bin/fitscut.cgi?ra=39.9804&dec=-1.5643&size=0.250&format=fits&filter=z: 400 Client Error: fitscut error for url: http://ps1images.stsci.edu/cgi-bin/fitscut.cgi?ra=39.9804&dec=-1.5643&size=0.250&format=fits&filter=z\n",
      "Failed to fetch http://ps1images.stsci.edu/cgi-bin/fitscut.cgi?ra=39.9804&dec=-1.5643&size=0.250&format=fits&filter=r: 400 Client Error: fitscut error for url: http://ps1images.stsci.edu/cgi-bin/fitscut.cgi?ra=39.9804&dec=-1.5643&size=0.250&format=fits&filter=r\n",
      "Failed to fetch http://ps1images.stsci.edu/cgi-bin/fitscut.cgi?ra=39.9804&dec=-1.5643&size=0.250&format=fits&filter=g: 400 Client Error: fitscut error for url: http://ps1images.stsci.edu/cgi-bin/fitscut.cgi?ra=39.9804&dec=-1.5643&size=0.250&format=fits&filter=g\n",
      "Failed to fetch http://ps1images.stsci.edu/cgi-bin/fitscut.cgi?ra=39.9804&dec=-1.5643&size=0.250&format=fits&filter=i: 400 Client Error: fitscut error for url: http://ps1images.stsci.edu/cgi-bin/fitscut.cgi?ra=39.9804&dec=-1.5643&size=0.250&format=fits&filter=i\n",
      "Failed to fetch http://ps1images.stsci.edu/cgi-bin/fitscut.cgi?ra=39.9804&dec=-1.5643&size=0.250&format=fits&filter=y: 400 Client Error: fitscut error for url: http://ps1images.stsci.edu/cgi-bin/fitscut.cgi?ra=39.9804&dec=-1.5643&size=0.250&format=fits&filter=y\n",
      "Failed to fetch http://ps1images.stsci.edu/cgi-bin/fitscut.cgi?ra=177.3978&dec=22.3955&size=0.250&format=fits&filter=y: 400 Client Error: fitscut error for url: http://ps1images.stsci.edu/cgi-bin/fitscut.cgi?ra=177.3978&dec=22.3955&size=0.250&format=fits&filter=y\n",
      "Failed to fetch http://ps1images.stsci.edu/cgi-bin/fitscut.cgi?ra=177.3978&dec=22.3955&size=0.250&format=fits&filter=z: 400 Client Error: fitscut error for url: http://ps1images.stsci.edu/cgi-bin/fitscut.cgi?ra=177.3978&dec=22.3955&size=0.250&format=fits&filter=z\n",
      "Failed to fetch http://ps1images.stsci.edu/cgi-bin/fitscut.cgi?ra=177.3978&dec=22.3955&size=0.250&format=fits&filter=i: 400 Client Error: fitscut error for url: http://ps1images.stsci.edu/cgi-bin/fitscut.cgi?ra=177.3978&dec=22.3955&size=0.250&format=fits&filter=i\n",
      "Failed to fetch http://ps1images.stsci.edu/cgi-bin/fitscut.cgi?ra=177.3978&dec=22.3955&size=0.250&format=fits&filter=r: 400 Client Error: fitscut error for url: http://ps1images.stsci.edu/cgi-bin/fitscut.cgi?ra=177.3978&dec=22.3955&size=0.250&format=fits&filter=r\n",
      "Failed to fetch http://ps1images.stsci.edu/cgi-bin/fitscut.cgi?ra=177.3978&dec=22.3955&size=0.250&format=fits&filter=g: 400 Client Error: fitscut error for url: http://ps1images.stsci.edu/cgi-bin/fitscut.cgi?ra=177.3978&dec=22.3955&size=0.250&format=fits&filter=g\n",
      "Failed to fetch http://ps1images.stsci.edu/cgi-bin/fitscut.cgi?ra=263.93467&dec=4.83247&size=0.250&format=fits&filter=y: 400 Client Error: fitscut error for url: http://ps1images.stsci.edu/cgi-bin/fitscut.cgi?ra=263.93467&dec=4.83247&size=0.250&format=fits&filter=y\n",
      "Failed to fetch http://ps1images.stsci.edu/cgi-bin/fitscut.cgi?ra=263.93467&dec=4.83247&size=0.250&format=fits&filter=g: 400 Client Error: fitscut error for url: http://ps1images.stsci.edu/cgi-bin/fitscut.cgi?ra=263.93467&dec=4.83247&size=0.250&format=fits&filter=g\n",
      "Failed to fetch http://ps1images.stsci.edu/cgi-bin/fitscut.cgi?ra=263.93467&dec=4.83247&size=0.250&format=fits&filter=z: 400 Client Error: fitscut error for url: http://ps1images.stsci.edu/cgi-bin/fitscut.cgi?ra=263.93467&dec=4.83247&size=0.250&format=fits&filter=z\n",
      "Failed to fetch http://ps1images.stsci.edu/cgi-bin/fitscut.cgi?ra=263.93467&dec=4.83247&size=0.250&format=fits&filter=i: 400 Client Error: fitscut error for url: http://ps1images.stsci.edu/cgi-bin/fitscut.cgi?ra=263.93467&dec=4.83247&size=0.250&format=fits&filter=i\n",
      "Failed to fetch http://ps1images.stsci.edu/cgi-bin/fitscut.cgi?ra=263.93467&dec=4.83247&size=0.250&format=fits&filter=r: 400 Client Error: fitscut error for url: http://ps1images.stsci.edu/cgi-bin/fitscut.cgi?ra=263.93467&dec=4.83247&size=0.250&format=fits&filter=r\n",
      "Failed to fetch http://ps1images.stsci.edu/cgi-bin/fitscut.cgi?ra=316.0662&dec=-6.3402&size=0.250&format=fits&filter=z: 400 Client Error: fitscut error for url: http://ps1images.stsci.edu/cgi-bin/fitscut.cgi?ra=316.0662&dec=-6.3402&size=0.250&format=fits&filter=z\n",
      "Failed to fetch http://ps1images.stsci.edu/cgi-bin/fitscut.cgi?ra=316.0662&dec=-6.3402&size=0.250&format=fits&filter=g: 400 Client Error: fitscut error for url: http://ps1images.stsci.edu/cgi-bin/fitscut.cgi?ra=316.0662&dec=-6.3402&size=0.250&format=fits&filter=g\n",
      "Failed to fetch http://ps1images.stsci.edu/cgi-bin/fitscut.cgi?ra=316.0662&dec=-6.3402&size=0.250&format=fits&filter=y: 400 Client Error: fitscut error for url: http://ps1images.stsci.edu/cgi-bin/fitscut.cgi?ra=316.0662&dec=-6.3402&size=0.250&format=fits&filter=y\n",
      "Failed to fetch http://ps1images.stsci.edu/cgi-bin/fitscut.cgi?ra=316.0662&dec=-6.3402&size=0.250&format=fits&filter=i: 400 Client Error: fitscut error for url: http://ps1images.stsci.edu/cgi-bin/fitscut.cgi?ra=316.0662&dec=-6.3402&size=0.250&format=fits&filter=i\n",
      "Failed to fetch http://ps1images.stsci.edu/cgi-bin/fitscut.cgi?ra=316.0662&dec=-6.3402&size=0.250&format=fits&filter=r: 400 Client Error: fitscut error for url: http://ps1images.stsci.edu/cgi-bin/fitscut.cgi?ra=316.0662&dec=-6.3402&size=0.250&format=fits&filter=r\n"
     ]
    }
   ],
   "source": [
    "if __name__ == \"__main__\":\n",
    "    json_path = \"./lensed_supernovae/supernovae.json\"\n",
    "    outdir = \"./lensed_supernovae/cutouts\"\n",
    "\n",
    "    # Load JSON catalog into an Astropy Table\n",
    "    table = load_sled_table(json_path)\n",
    "    print(table)\n",
    "\n",
    "    # Loop through catalog entries and fetch Pan-STARRS cutouts\n",
    "    for row in table:\n",
    "        query_panstarrs(\n",
    "        ra=row[\"ra\"],\n",
    "        dec=row[\"dec\"],\n",
    "        imaging=row[\"imaging\"],\n",
    "        outdir=outdir,\n",
    "        name=row[\"name\"]\n",
    "    )"
   ]
  }
 ],
 "metadata": {
  "kernelspec": {
   "display_name": "Python 3",
   "language": "python",
   "name": "python3"
  },
  "language_info": {
   "codemirror_mode": {
    "name": "ipython",
    "version": 3
   },
   "file_extension": ".py",
   "mimetype": "text/x-python",
   "name": "python",
   "nbconvert_exporter": "python",
   "pygments_lexer": "ipython3",
   "version": "3.10.11"
  }
 },
 "nbformat": 4,
 "nbformat_minor": 5
}
