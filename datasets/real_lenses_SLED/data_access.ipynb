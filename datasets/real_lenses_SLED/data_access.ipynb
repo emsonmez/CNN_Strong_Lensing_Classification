{
 "cells": [
  {
   "cell_type": "code",
   "execution_count": 39,
   "id": "03e7bba8",
   "metadata": {},
   "outputs": [],
   "source": [
    "# Importing necessary libraries \n",
    "import os\n",
    "import json\n",
    "import requests\n",
    "from astropy.table import Table\n",
    "from urllib.parse import urlencode"
   ]
  },
  {
   "cell_type": "markdown",
   "id": "23f9914b",
   "metadata": {},
   "source": [
    "### General Structure of Reading JSON files from SLED and FITS Imaging Downloads from Multiple Databases."
   ]
  },
  {
   "cell_type": "code",
   "execution_count": 40,
   "id": "d34be31a",
   "metadata": {},
   "outputs": [],
   "source": [
    "def load_sled_table(json_file):\n",
    "    \"\"\"\n",
    "    Load JSON file of lensed objects into an Astropy Table.\n",
    "    Each row corresponds to a unique 'name' entry in the JSON.\n",
    "    \"\"\"\n",
    "    with open(json_file, \"r\") as f:\n",
    "        data = json.load(f)\n",
    "\n",
    "    rows = []\n",
    "    for entry in data:\n",
    "        rows.append({\n",
    "            \"name\": entry.get(\"name\", \"Unknown\"),\n",
    "            \"ra\": float(entry.get(\"ra\", None)),\n",
    "            \"dec\": float(entry.get(\"dec\", None)),\n",
    "            \"score\": entry.get(\"score\", None),\n",
    "            \"flag\": entry.get(\"flag\", \"Unknown\"),\n",
    "            \"n_img\": entry.get(\"n_img\", None),\n",
    "            \"image_sep\": entry.get(\"image_sep\", None),\n",
    "            \"lens_type\": entry.get(\"lens_type\", \"Unknown\"),\n",
    "            \"source_type\": entry.get(\"source_type\", \"Unknown\"),\n",
    "            \"imaging\": entry.get(\"imaging\", [])\n",
    "        })\n",
    "\n",
    "    table = Table(\n",
    "        rows=rows,\n",
    "        names=[\n",
    "            \"name\", \"ra\", \"dec\", \"score\",\n",
    "            \"flag\", \"n_img\", \"image_sep\", \"lens_type\", \"source_type\", \"imaging\"\n",
    "        ]\n",
    "    )\n",
    "    return table"
   ]
  },
  {
   "cell_type": "code",
   "execution_count": 41,
   "id": "985510e7",
   "metadata": {},
   "outputs": [],
   "source": [
    "def download_fits(url, outpath):\n",
    "    \"\"\"Download a FITS file and save it to outpath.\"\"\"\n",
    "    try:\n",
    "        response = requests.get(url, timeout=30)\n",
    "        response.raise_for_status()\n",
    "        with open(outpath, \"wb\") as f:\n",
    "            f.write(response.content)\n",
    "        print(f\"Saved {outpath}\")\n",
    "    except requests.HTTPError as e:\n",
    "        print(f\"Failed to fetch {url}: {e}\")"
   ]
  },
  {
   "cell_type": "code",
   "execution_count": 42,
   "id": "40689e28",
   "metadata": {},
   "outputs": [],
   "source": [
    "def query_panstarrs(ra, dec, imaging, outdir, name):\n",
    "    \"\"\"\n",
    "    Download Pan-STARRS FITS cutouts for each band in imaging using ps1filenames.py service.\n",
    "    Saved as: ./outdir/<name>/<instrument>/<name>_<band>.fits\n",
    "    \"\"\"\n",
    "    base_fitscut = \"https://ps1images.stsci.edu/cgi-bin/fitscut.cgi?\"\n",
    "    valid_bands = {\"g\",\"r\",\"i\",\"z\",\"y\"}\n",
    "\n",
    "    for img in imaging:\n",
    "        instrument = img.get(\"instrument\")\n",
    "        if instrument != \"Pan-STARRS1\":\n",
    "            continue\n",
    "\n",
    "        band = img.get(\"band\")\n",
    "        if not band:\n",
    "            print(f\"Skipping {name}: missing band\")\n",
    "            continue\n",
    "        band = band.strip().lower()\n",
    "        if band not in valid_bands:\n",
    "            print(f\"Skipping {name}: invalid band {band}\")\n",
    "            continue\n",
    "\n",
    "        # Query list of filenames for this position & filter\n",
    "        try:\n",
    "            url_table = f\"https://ps1images.stsci.edu/cgi-bin/ps1filenames.py?ra={ra}&dec={dec}&filters={band}\"\n",
    "            table = Table.read(url_table, format='ascii')\n",
    "            if len(table) == 0:\n",
    "                print(f\"No PS1 images found for {name} band {band}\")\n",
    "                continue\n",
    "            filename = table['filename'][0]  # take first available image\n",
    "        except Exception as e:\n",
    "            print(f\"Failed to query filenames for {name} band {band}: {e}\")\n",
    "            continue\n",
    "\n",
    "        # Always use size = 120 pixels\n",
    "        size_pixels = 120\n",
    "\n",
    "        params = {\n",
    "            \"ra\": ra,\n",
    "            \"dec\": dec,\n",
    "            \"size\": size_pixels,\n",
    "            \"format\": \"fits\",\n",
    "            \"red\": filename  # single-band FITS uses red param\n",
    "        }\n",
    "\n",
    "        url = base_fitscut + urlencode(params)\n",
    "\n",
    "        inst_dir = os.path.join(outdir, name, instrument)\n",
    "        os.makedirs(inst_dir, exist_ok=True)\n",
    "        outpath = os.path.join(inst_dir, f\"{name}_{band}.fits\")\n",
    "\n",
    "        try:\n",
    "            download_fits(url, outpath)\n",
    "        except Exception as e:\n",
    "            print(f\"Failed to fetch {url}: {e}\")"
   ]
  },
  {
   "cell_type": "markdown",
   "id": "f82f6c77",
   "metadata": {},
   "source": [
    "### Accessing JSON lensed galaxies file"
   ]
  },
  {
   "cell_type": "code",
   "execution_count": null,
   "id": "5cb03736",
   "metadata": {},
   "outputs": [],
   "source": []
  },
  {
   "cell_type": "markdown",
   "id": "bd4000da",
   "metadata": {},
   "source": [
    "### Accessing JSON lensed quasars file "
   ]
  },
  {
   "cell_type": "code",
   "execution_count": null,
   "id": "aafb0b75",
   "metadata": {},
   "outputs": [],
   "source": []
  },
  {
   "cell_type": "markdown",
   "id": "b8e87600",
   "metadata": {},
   "source": [
    "### Accessing JSON lensed supernovae file \n"
   ]
  },
  {
   "cell_type": "code",
   "execution_count": 43,
   "id": "3f555efe",
   "metadata": {},
   "outputs": [
    {
     "name": "stdout",
     "output_type": "stream",
     "text": [
      "     name      ...\n",
      "-------------- ...\n",
      "    J0138-2155 ...\n",
      " ABELL370_GLSN ...\n",
      "MACSJ1149_GLSN ...\n",
      "    SN-2022qmx ...\n",
      "     iPTF16geu ...\n",
      "Saved ./lensed_supernovae/cutouts\\J0138-2155\\Pan-STARRS1\\J0138-2155_y.fits\n",
      "Saved ./lensed_supernovae/cutouts\\J0138-2155\\Pan-STARRS1\\J0138-2155_r.fits\n",
      "Saved ./lensed_supernovae/cutouts\\J0138-2155\\Pan-STARRS1\\J0138-2155_z.fits\n",
      "Saved ./lensed_supernovae/cutouts\\J0138-2155\\Pan-STARRS1\\J0138-2155_g.fits\n",
      "Saved ./lensed_supernovae/cutouts\\J0138-2155\\Pan-STARRS1\\J0138-2155_i.fits\n",
      "Saved ./lensed_supernovae/cutouts\\ABELL370_GLSN\\Pan-STARRS1\\ABELL370_GLSN_z.fits\n",
      "Saved ./lensed_supernovae/cutouts\\ABELL370_GLSN\\Pan-STARRS1\\ABELL370_GLSN_r.fits\n",
      "Saved ./lensed_supernovae/cutouts\\ABELL370_GLSN\\Pan-STARRS1\\ABELL370_GLSN_g.fits\n",
      "Saved ./lensed_supernovae/cutouts\\ABELL370_GLSN\\Pan-STARRS1\\ABELL370_GLSN_i.fits\n",
      "Saved ./lensed_supernovae/cutouts\\ABELL370_GLSN\\Pan-STARRS1\\ABELL370_GLSN_y.fits\n",
      "Saved ./lensed_supernovae/cutouts\\MACSJ1149_GLSN\\Pan-STARRS1\\MACSJ1149_GLSN_y.fits\n",
      "Saved ./lensed_supernovae/cutouts\\MACSJ1149_GLSN\\Pan-STARRS1\\MACSJ1149_GLSN_z.fits\n",
      "Saved ./lensed_supernovae/cutouts\\MACSJ1149_GLSN\\Pan-STARRS1\\MACSJ1149_GLSN_i.fits\n",
      "Saved ./lensed_supernovae/cutouts\\MACSJ1149_GLSN\\Pan-STARRS1\\MACSJ1149_GLSN_r.fits\n",
      "Saved ./lensed_supernovae/cutouts\\MACSJ1149_GLSN\\Pan-STARRS1\\MACSJ1149_GLSN_g.fits\n",
      "Saved ./lensed_supernovae/cutouts\\SN-2022qmx\\Pan-STARRS1\\SN-2022qmx_y.fits\n",
      "Saved ./lensed_supernovae/cutouts\\SN-2022qmx\\Pan-STARRS1\\SN-2022qmx_g.fits\n",
      "Saved ./lensed_supernovae/cutouts\\SN-2022qmx\\Pan-STARRS1\\SN-2022qmx_z.fits\n",
      "Saved ./lensed_supernovae/cutouts\\SN-2022qmx\\Pan-STARRS1\\SN-2022qmx_i.fits\n",
      "Saved ./lensed_supernovae/cutouts\\SN-2022qmx\\Pan-STARRS1\\SN-2022qmx_r.fits\n",
      "Saved ./lensed_supernovae/cutouts\\iPTF16geu\\Pan-STARRS1\\iPTF16geu_z.fits\n",
      "Saved ./lensed_supernovae/cutouts\\iPTF16geu\\Pan-STARRS1\\iPTF16geu_g.fits\n",
      "Saved ./lensed_supernovae/cutouts\\iPTF16geu\\Pan-STARRS1\\iPTF16geu_y.fits\n",
      "Saved ./lensed_supernovae/cutouts\\iPTF16geu\\Pan-STARRS1\\iPTF16geu_i.fits\n",
      "Saved ./lensed_supernovae/cutouts\\iPTF16geu\\Pan-STARRS1\\iPTF16geu_r.fits\n"
     ]
    }
   ],
   "source": [
    "if __name__ == \"__main__\":\n",
    "    json_path = \"./lensed_supernovae/supernovae.json\"\n",
    "    outdir = \"./lensed_supernovae/cutouts\"\n",
    "\n",
    "    # Load JSON catalog into an Astropy Table\n",
    "    table = load_sled_table(json_path)\n",
    "    print(table)\n",
    "\n",
    "    # Loop through catalog entries and fetch Pan-STARRS cutouts\n",
    "    for row in table:\n",
    "        name = row[\"name\"]\n",
    "        ra = row[\"ra\"]\n",
    "        dec = row[\"dec\"]\n",
    "        imaging_list = row[\"imaging\"]\n",
    "\n",
    "        if not imaging_list:\n",
    "            print(f\"No imaging data for {name}, skipping.\")\n",
    "            continue\n",
    "\n",
    "        query_panstarrs(\n",
    "            ra=ra,\n",
    "            dec=dec,\n",
    "            imaging=imaging_list,\n",
    "            outdir=outdir,\n",
    "            name=name\n",
    "        )"
   ]
  }
 ],
 "metadata": {
  "kernelspec": {
   "display_name": "Python 3",
   "language": "python",
   "name": "python3"
  },
  "language_info": {
   "codemirror_mode": {
    "name": "ipython",
    "version": 3
   },
   "file_extension": ".py",
   "mimetype": "text/x-python",
   "name": "python",
   "nbconvert_exporter": "python",
   "pygments_lexer": "ipython3",
   "version": "3.10.11"
  }
 },
 "nbformat": 4,
 "nbformat_minor": 5
}
